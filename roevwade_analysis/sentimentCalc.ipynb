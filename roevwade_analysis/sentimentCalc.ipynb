{
 "cells": [
  {
   "cell_type": "code",
   "execution_count": null,
   "id": "breathing-shield",
   "metadata": {},
   "outputs": [],
   "source": [
    "#WILL ADD THIS TO CLEAN DATA NOTEBOOK \n",
    "import sys\n",
    "import nltk \n",
    "from vaderSentiment.vaderSentiment import SentimentIntensityAnalyzer\n",
    "import pandas as pd\n",
    "import os\n",
    "from pandas.api.types import CategoricalDtype\n",
    "from plotnine import *\n",
    "from plotnine.data import mpg\n",
    "from datetime import datetime\n",
    "%matplotlib inline"
   ]
  },
  {
   "cell_type": "code",
   "execution_count": null,
   "id": "pressed-israel",
   "metadata": {},
   "outputs": [],
   "source": [
    "#read clean data\n",
    "cleanData = pd.read_csv(\"no_retweets_data.csv\")\n",
    "cleanData.head()\n"
   ]
  },
  {
   "cell_type": "code",
   "execution_count": null,
   "id": "incorporated-boring",
   "metadata": {},
   "outputs": [],
   "source": [
    "def calcSentiment(filePath):\n",
    "    curData = pd.read_csv(filePath)\n",
    "    curData['positiveScore'] = ''\n",
    "    curData['compoundScore'] = ''\n",
    "    curData['negativeScore'] = ''\n",
    "    curData['neutralScore'] = ''\n",
    "    for index,row in curData.iterrows():\n",
    "        curTweet = row['tweet']\n",
    "        compScore,posScore,negScore,neuScore = calcSentimentScore(curTweet)\n",
    "        curData.loc[index,'compoundScore'] = compScore\n",
    "        curData.loc[index,'positiveScore'] = posScore\n",
    "        curData.loc[index,'negativeScore'] = negScore\n",
    "        curData.loc[index,'neutralScore'] = neuScore\n",
    "    return curData"
   ]
  },
  {
   "cell_type": "code",
   "execution_count": null,
   "id": "pacific-bottle",
   "metadata": {},
   "outputs": [],
   "source": [
    "def calcSentimentScore(tweet):\n",
    "    analyzer = SentimentIntensityAnalyzer()\n",
    "    sentimentDict = analyzer.polarity_scores(tweet)\n",
    "#     print(sentimentDict)\n",
    "    sentimentCompoundScore = sentimentDict['compound']\n",
    "#     print(sentimentCompoundScore)\n",
    "    sentimentPositiveScore = sentimentDict['pos']\n",
    "#     print(sentimentPositiveScore)\n",
    "    sentimentNegativeScore = sentimentDict['neg']\n",
    "#     print(sentimentNegativeScore)\n",
    "    sentimentNeutralScore = sentimentDict['neu']\n",
    "#     print(sentimentNeutralScore)\n",
    "    return sentimentCompoundScore, sentimentPositiveScore, sentimentNegativeScore,sentimentNeutralScore\n"
   ]
  },
  {
   "cell_type": "code",
   "execution_count": null,
   "id": "least-purse",
   "metadata": {},
   "outputs": [],
   "source": [
    "#calculate sentiment\n",
    "\n",
    "# number of tweets: 19739\n",
    "newCSV = calcSentiment(\"no_retweets_data.csv\")\n",
    "#calculations\n",
    "posCount = 0\n",
    "neuCount = 0\n",
    "negCount = 0\n",
    "sentiment = ''\n",
    "for index,row in newCSV.iterrows():\n",
    "        curTweet = row['compoundScore']\n",
    "        if curTweet >= 0.05 :\n",
    "            posCount +=1\n",
    "            sentiment = 'positive'\n",
    "        elif curTweet <= - 0.05 :\n",
    "            negCount+=1\n",
    "            sentiment = 'negative'\n",
    "        else :\n",
    "            neuCount+=1\n",
    "            sentiment = 'neutral'\n",
    "            \n",
    "        newCSV.loc[index,'sentimentEval'] = sentiment\n",
    "        \n",
    "print(\"positive sentiment count: \",posCount)\n",
    "print(\"negative sentiment count: \",negCount)\n",
    "print(\"neutral sentiment count: \",neuCount)\n",
    "\n",
    "\n",
    "newCSV.head()"
   ]
  },
  {
   "cell_type": "code",
   "execution_count": null,
   "id": "demanding-conflict",
   "metadata": {},
   "outputs": [],
   "source": [
    "#csv with sentiment scores (positive,compound,negative,neutral)\n",
    "\n",
    "newCSV.to_csv(\"tweetsWithSentiment.csv\")"
   ]
  }
 ],
 "metadata": {
  "kernelspec": {
   "display_name": "Python 3",
   "language": "python",
   "name": "python3"
  },
  "language_info": {
   "codemirror_mode": {
    "name": "ipython",
    "version": 3
   },
   "file_extension": ".py",
   "mimetype": "text/x-python",
   "name": "python",
   "nbconvert_exporter": "python",
   "pygments_lexer": "ipython3",
   "version": "3.7.4"
  }
 },
 "nbformat": 4,
 "nbformat_minor": 5
}
