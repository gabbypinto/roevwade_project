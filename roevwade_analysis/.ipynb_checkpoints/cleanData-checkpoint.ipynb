{
 "cells": [
  {
   "cell_type": "code",
   "execution_count": 34,
   "metadata": {},
   "outputs": [],
   "source": [
    "import os \n",
    "import pandas as pd\n",
    "from pandas.api.types import CategoricalDtype\n",
    "import csv \n",
    "import sys"
   ]
  },
  {
   "cell_type": "code",
   "execution_count": 35,
   "metadata": {},
   "outputs": [],
   "source": [
    "import nltk \n",
    "from vaderSentiment.vaderSentiment import SentimentIntensityAnalyzer\n",
    "from plotnine import *\n",
    "from plotnine.data import mpg\n",
    "from datetime import datetime"
   ]
  },
  {
   "cell_type": "code",
   "execution_count": 108,
   "metadata": {},
   "outputs": [],
   "source": [
    "import re\n",
    "import datetime\n",
    "import numpy as np"
   ]
  },
  {
   "cell_type": "markdown",
   "metadata": {},
   "source": [
    "## Read and Clean Data"
   ]
  },
  {
   "cell_type": "code",
   "execution_count": 36,
   "metadata": {},
   "outputs": [
    {
     "name": "stderr",
     "output_type": "stream",
     "text": [
      "/Users/gabbypinto/.pyenv/versions/3.7.4/lib/python3.7/site-packages/IPython/core/interactiveshell.py:3166: DtypeWarning: Columns (1,2,5,7,8,9,10) have mixed types.Specify dtype option on import or set low_memory=False.\n"
     ]
    }
   ],
   "source": [
    "#read/check data \n",
    "tweetsData = pd.read_csv(\"allTweets.csv\")"
   ]
  },
  {
   "cell_type": "code",
   "execution_count": 37,
   "metadata": {},
   "outputs": [
    {
     "data": {
      "text/html": [
       "<div>\n",
       "<style scoped>\n",
       "    .dataframe tbody tr th:only-of-type {\n",
       "        vertical-align: middle;\n",
       "    }\n",
       "\n",
       "    .dataframe tbody tr th {\n",
       "        vertical-align: top;\n",
       "    }\n",
       "\n",
       "    .dataframe thead th {\n",
       "        text-align: right;\n",
       "    }\n",
       "</style>\n",
       "<table border=\"1\" class=\"dataframe\">\n",
       "  <thead>\n",
       "    <tr style=\"text-align: right;\">\n",
       "      <th></th>\n",
       "      <th>Unnamed: 0</th>\n",
       "      <th>Unnamed: 0.1</th>\n",
       "      <th>author id</th>\n",
       "      <th>created_at</th>\n",
       "      <th>geo</th>\n",
       "      <th>id</th>\n",
       "      <th>lang</th>\n",
       "      <th>like_count</th>\n",
       "      <th>quote_count</th>\n",
       "      <th>reply_count</th>\n",
       "      <th>retweet_count</th>\n",
       "      <th>source</th>\n",
       "      <th>tweet</th>\n",
       "    </tr>\n",
       "  </thead>\n",
       "  <tbody>\n",
       "    <tr>\n",
       "      <th>0</th>\n",
       "      <td>0</td>\n",
       "      <td>0</td>\n",
       "      <td>594845016</td>\n",
       "      <td>2022-04-27 23:59:53+00:00</td>\n",
       "      <td></td>\n",
       "      <td>1519466393497915393</td>\n",
       "      <td>en</td>\n",
       "      <td>7</td>\n",
       "      <td>0</td>\n",
       "      <td>1</td>\n",
       "      <td>0</td>\n",
       "      <td>Twitter for iPhone</td>\n",
       "      <td>@Alphons04260271 Awwwwe!!!  Hi Wade!  Are you ...</td>\n",
       "    </tr>\n",
       "    <tr>\n",
       "      <th>1</th>\n",
       "      <td>1</td>\n",
       "      <td>1</td>\n",
       "      <td>3238197455</td>\n",
       "      <td>2022-04-27 23:59:32+00:00</td>\n",
       "      <td></td>\n",
       "      <td>1519466308294877185</td>\n",
       "      <td>en</td>\n",
       "      <td>2</td>\n",
       "      <td>0</td>\n",
       "      <td>1</td>\n",
       "      <td>0</td>\n",
       "      <td>Twitter for Android</td>\n",
       "      <td>@EdanRt @BrynnTannehill And it's more common f...</td>\n",
       "    </tr>\n",
       "    <tr>\n",
       "      <th>2</th>\n",
       "      <td>2</td>\n",
       "      <td>2</td>\n",
       "      <td>1505086603118923777</td>\n",
       "      <td>2022-04-27 23:59:30+00:00</td>\n",
       "      <td></td>\n",
       "      <td>1519466297502965761</td>\n",
       "      <td>ht</td>\n",
       "      <td>0</td>\n",
       "      <td>0</td>\n",
       "      <td>0</td>\n",
       "      <td>0</td>\n",
       "      <td>WordPress.com</td>\n",
       "      <td>Bab 268 – Si Karismatik Charlie Wade – Part 2 ...</td>\n",
       "    </tr>\n",
       "    <tr>\n",
       "      <th>3</th>\n",
       "      <td>3</td>\n",
       "      <td>3</td>\n",
       "      <td>1505094121954115586</td>\n",
       "      <td>2022-04-27 23:59:29+00:00</td>\n",
       "      <td></td>\n",
       "      <td>1519466293015031812</td>\n",
       "      <td>ht</td>\n",
       "      <td>0</td>\n",
       "      <td>0</td>\n",
       "      <td>0</td>\n",
       "      <td>0</td>\n",
       "      <td>WordPress.com</td>\n",
       "      <td>Bab 268 – Si Karismatik Charlie Wade – Part 2 ...</td>\n",
       "    </tr>\n",
       "    <tr>\n",
       "      <th>4</th>\n",
       "      <td>4</td>\n",
       "      <td>4</td>\n",
       "      <td>1248533457996677121</td>\n",
       "      <td>2022-04-27 23:59:23+00:00</td>\n",
       "      <td></td>\n",
       "      <td>1519466266905702402</td>\n",
       "      <td>qme</td>\n",
       "      <td>1</td>\n",
       "      <td>0</td>\n",
       "      <td>0</td>\n",
       "      <td>0</td>\n",
       "      <td>Twitter Web App</td>\n",
       "      <td>@Richard_X_Roe https://t.co/Wp2OLaZKgz</td>\n",
       "    </tr>\n",
       "  </tbody>\n",
       "</table>\n",
       "</div>"
      ],
      "text/plain": [
       "   Unnamed: 0 Unnamed: 0.1            author id                 created_at  \\\n",
       "0           0            0            594845016  2022-04-27 23:59:53+00:00   \n",
       "1           1            1           3238197455  2022-04-27 23:59:32+00:00   \n",
       "2           2            2  1505086603118923777  2022-04-27 23:59:30+00:00   \n",
       "3           3            3  1505094121954115586  2022-04-27 23:59:29+00:00   \n",
       "4           4            4  1248533457996677121  2022-04-27 23:59:23+00:00   \n",
       "\n",
       "  geo                   id lang like_count quote_count reply_count  \\\n",
       "0      1519466393497915393   en          7           0           1   \n",
       "1      1519466308294877185   en          2           0           1   \n",
       "2      1519466297502965761   ht          0           0           0   \n",
       "3      1519466293015031812   ht          0           0           0   \n",
       "4      1519466266905702402  qme          1           0           0   \n",
       "\n",
       "  retweet_count               source  \\\n",
       "0             0   Twitter for iPhone   \n",
       "1             0  Twitter for Android   \n",
       "2             0        WordPress.com   \n",
       "3             0        WordPress.com   \n",
       "4             0      Twitter Web App   \n",
       "\n",
       "                                               tweet  \n",
       "0  @Alphons04260271 Awwwwe!!!  Hi Wade!  Are you ...  \n",
       "1  @EdanRt @BrynnTannehill And it's more common f...  \n",
       "2  Bab 268 – Si Karismatik Charlie Wade – Part 2 ...  \n",
       "3  Bab 268 – Si Karismatik Charlie Wade – Part 2 ...  \n",
       "4             @Richard_X_Roe https://t.co/Wp2OLaZKgz  "
      ]
     },
     "execution_count": 37,
     "metadata": {},
     "output_type": "execute_result"
    }
   ],
   "source": [
    "#top \n",
    "tweetsData.head()"
   ]
  },
  {
   "cell_type": "code",
   "execution_count": 38,
   "metadata": {},
   "outputs": [
    {
     "name": "stdout",
     "output_type": "stream",
     "text": [
      "          Unnamed: 0 Unnamed: 0.1              author id  \\\n",
      "0                  0            0              594845016   \n",
      "1                  1            1             3238197455   \n",
      "2                  2            2    1505086603118923777   \n",
      "3                  3            3    1505094121954115586   \n",
      "4                  4            4    1248533457996677121   \n",
      "...              ...          ...                    ...   \n",
      "11138468    11138468      3748506  1207860810845802496.0   \n",
      "11138469    11138469      3748507   897895526720446464.0   \n",
      "11138470    11138470      3748508  1449417831188078592.0   \n",
      "11138471    11138471      3748509           1411726710.0   \n",
      "11138472    11138472      3748510  1259124193729417216.0   \n",
      "\n",
      "                         created_at geo                     id lang  \\\n",
      "0         2022-04-27 23:59:53+00:00        1519466393497915393   en   \n",
      "1         2022-04-27 23:59:32+00:00        1519466308294877185   en   \n",
      "2         2022-04-27 23:59:30+00:00        1519466297502965761   ht   \n",
      "3         2022-04-27 23:59:29+00:00        1519466293015031812   ht   \n",
      "4         2022-04-27 23:59:23+00:00        1519466266905702402  qme   \n",
      "...                             ...  ..                    ...  ...   \n",
      "11138468  2022-05-06 03:37:54+00:00      1522420365028659200.0   en   \n",
      "11138469  2022-05-06 03:37:54+00:00      1522420364264964096.0   en   \n",
      "11138470  2022-05-06 03:37:54+00:00      1522420363983945728.0   en   \n",
      "11138471  2022-05-06 03:37:54+00:00      1522420362403000320.0   ro   \n",
      "11138472  2022-05-06 03:37:54+00:00      1522420361920495616.0   en   \n",
      "\n",
      "         like_count quote_count reply_count retweet_count  \\\n",
      "0                 7           0           1             0   \n",
      "1                 2           0           1             0   \n",
      "2                 0           0           0             0   \n",
      "3                 0           0           0             0   \n",
      "4                 1           0           0             0   \n",
      "...             ...         ...         ...           ...   \n",
      "11138468        0.0         0.0         0.0       16992.0   \n",
      "11138469        0.0         0.0         0.0         267.0   \n",
      "11138470        0.0         0.0         0.0          37.0   \n",
      "11138471        0.0         0.0         0.0           5.0   \n",
      "11138472        0.0         0.0         0.0       10530.0   \n",
      "\n",
      "                       source  \\\n",
      "0          Twitter for iPhone   \n",
      "1         Twitter for Android   \n",
      "2               WordPress.com   \n",
      "3               WordPress.com   \n",
      "4             Twitter Web App   \n",
      "...                       ...   \n",
      "11138468      Twitter Web App   \n",
      "11138469  Twitter for Android   \n",
      "11138470   Twitter for iPhone   \n",
      "11138471      Twitter Web App   \n",
      "11138472  Twitter for Android   \n",
      "\n",
      "                                                      tweet  \n",
      "0         @Alphons04260271 Awwwwe!!!  Hi Wade!  Are you ...  \n",
      "1         @EdanRt @BrynnTannehill And it's more common f...  \n",
      "2         Bab 268 – Si Karismatik Charlie Wade – Part 2 ...  \n",
      "3         Bab 268 – Si Karismatik Charlie Wade – Part 2 ...  \n",
      "4                    @Richard_X_Roe https://t.co/Wp2OLaZKgz  \n",
      "...                                                     ...  \n",
      "11138468  RT @OxfordDiplomat: THREAD: As Roe v Wade tren...  \n",
      "11138469  RT @rudepundit: If you don't get that Republic...  \n",
      "11138470  RT @uatwthistory: May 5th, 2021\\n\\nA DAY IN MA...  \n",
      "11138471  RT @geoff_p_wade: Papua New Guinea: For more o...  \n",
      "11138472  RT @briantylercohen: Put the bill codifying Ro...  \n",
      "\n",
      "[11138473 rows x 13 columns]\n"
     ]
    }
   ],
   "source": [
    "print(tweetsData)"
   ]
  },
  {
   "cell_type": "code",
   "execution_count": 39,
   "metadata": {},
   "outputs": [],
   "source": [
    "#step 1 remove duplicates, based on the 'tweet' column value\n",
    "# tweetsData2 = tweetsData[tweetsData.duplicated('tweet')]\n",
    "tweetsData2 = tweetsData.drop_duplicates(subset='tweet',keep='first')\n",
    "# df = df.drop_duplicates(subset='favorite_color', keep=\"first\")"
   ]
  },
  {
   "cell_type": "code",
   "execution_count": 100,
   "metadata": {},
   "outputs": [
    {
     "name": "stdout",
     "output_type": "stream",
     "text": [
      "0           2022-04-27 23:59:53+00:00\n",
      "1           2022-04-27 23:59:32+00:00\n",
      "2           2022-04-27 23:59:30+00:00\n",
      "3           2022-04-27 23:59:29+00:00\n",
      "4           2022-04-27 23:59:23+00:00\n",
      "                      ...            \n",
      "11135731    2022-05-06 03:47:44+00:00\n",
      "11135894    2022-05-06 03:47:10+00:00\n",
      "11136084    2022-05-06 03:46:34+00:00\n",
      "11136330    2022-05-06 03:45:42+00:00\n",
      "11137372    2022-05-06 03:41:59+00:00\n",
      "Name: created_at, Length: 1470205, dtype: object\n"
     ]
    }
   ],
   "source": [
    "print(tweetsData2)"
   ]
  },
  {
   "cell_type": "code",
   "execution_count": 42,
   "metadata": {},
   "outputs": [],
   "source": [
    "tweetsData2.to_csv(\"tweets_nodups.csv\") "
   ]
  },
  {
   "cell_type": "code",
   "execution_count": 102,
   "metadata": {},
   "outputs": [
    {
     "name": "stderr",
     "output_type": "stream",
     "text": [
      "/Users/gabbypinto/.pyenv/versions/3.7.4/lib/python3.7/site-packages/IPython/core/interactiveshell.py:3166: DtypeWarning: Columns (2,3,6,8,9,10,11) have mixed types.Specify dtype option on import or set low_memory=False.\n"
     ]
    }
   ],
   "source": [
    "#grabbing createed at data\n",
    "# tweetsData2['created_at'].fillna(0)\n",
    "nodups = pd.read_csv(\"tweets_nodups.csv\")"
   ]
  },
  {
   "cell_type": "code",
   "execution_count": 103,
   "metadata": {},
   "outputs": [
    {
     "data": {
      "text/plain": [
       "0          2022-04-27 23:59:53+00:00\n",
       "1          2022-04-27 23:59:32+00:00\n",
       "2          2022-04-27 23:59:30+00:00\n",
       "3          2022-04-27 23:59:29+00:00\n",
       "4          2022-04-27 23:59:23+00:00\n",
       "                     ...            \n",
       "1470200    2022-05-06 03:47:44+00:00\n",
       "1470201    2022-05-06 03:47:10+00:00\n",
       "1470202    2022-05-06 03:46:34+00:00\n",
       "1470203    2022-05-06 03:45:42+00:00\n",
       "1470204    2022-05-06 03:41:59+00:00\n",
       "Name: created_at, Length: 1470205, dtype: object"
      ]
     },
     "execution_count": 103,
     "metadata": {},
     "output_type": "execute_result"
    }
   ],
   "source": [
    "nodups['created_at'].fillna(0)"
   ]
  },
  {
   "cell_type": "code",
   "execution_count": 104,
   "metadata": {},
   "outputs": [
    {
     "name": "stdout",
     "output_type": "stream",
     "text": [
      "2022-04-27 23:59:53+00:00\n"
     ]
    }
   ],
   "source": [
    "createdAtList = nodups['created_at'].tolist()\n",
    "print(createdAtList[0])"
   ]
  },
  {
   "cell_type": "code",
   "execution_count": 112,
   "metadata": {},
   "outputs": [
    {
     "name": "stdout",
     "output_type": "stream",
     "text": [
      "         Unnamed: 0  Unnamed: 0.1 Unnamed: 0.1.1              author id  \\\n",
      "0                 0             0              0              594845016   \n",
      "1                 1             1              1             3238197455   \n",
      "2                 2             2              2    1505086603118923777   \n",
      "3                 3             3              3    1505094121954115586   \n",
      "4                 4             4              4    1248533457996677121   \n",
      "...             ...           ...            ...                    ...   \n",
      "1470200    11135731      11135731        3745769  1271976826852777984.0   \n",
      "1470201    11135894      11135894        3745932  1140087873120681984.0   \n",
      "1470202    11136084      11136084        3746122  1397156028530237440.0   \n",
      "1470203    11136330      11136330        3746368  1397156028530237440.0   \n",
      "1470204    11137372      11137372        3747410  1436128043580469248.0   \n",
      "\n",
      "                        created_at geo                     id lang like_count  \\\n",
      "0        2022-04-27 23:59:53+00:00        1519466393497915393   en          7   \n",
      "1        2022-04-27 23:59:32+00:00        1519466308294877185   en          2   \n",
      "2        2022-04-27 23:59:30+00:00        1519466297502965761   ht          0   \n",
      "3        2022-04-27 23:59:29+00:00        1519466293015031812   ht          0   \n",
      "4        2022-04-27 23:59:23+00:00        1519466266905702402  qme          1   \n",
      "...                            ...  ..                    ...  ...        ...   \n",
      "1470200  2022-05-06 03:47:44+00:00      1522422837457436672.0   en        0.0   \n",
      "1470201  2022-05-06 03:47:10+00:00      1522422697480884224.0   en        0.0   \n",
      "1470202  2022-05-06 03:46:34+00:00      1522422544434933760.0   en        0.0   \n",
      "1470203  2022-05-06 03:45:42+00:00      1522422327945965568.0   en        0.0   \n",
      "1470204  2022-05-06 03:41:59+00:00      1522421391542341632.0   en        0.0   \n",
      "\n",
      "        quote_count reply_count retweet_count               source  \\\n",
      "0                 0           1             0   Twitter for iPhone   \n",
      "1                 0           1             0  Twitter for Android   \n",
      "2                 0           0             0        WordPress.com   \n",
      "3                 0           0             0        WordPress.com   \n",
      "4                 0           0             0      Twitter Web App   \n",
      "...             ...         ...           ...                  ...   \n",
      "1470200         0.0         0.0           0.0   Twitter for iPhone   \n",
      "1470201         0.0         1.0           0.0      Twitter Web App   \n",
      "1470202         0.0         0.0           0.0  Twitter for Android   \n",
      "1470203         0.0         0.0           0.0  Twitter for Android   \n",
      "1470204         0.0         0.0           0.0  Twitter for Android   \n",
      "\n",
      "                                                     tweet  \n",
      "0        @Alphons04260271 Awwwwe!!!  Hi Wade!  Are you ...  \n",
      "1        @EdanRt @BrynnTannehill And it's more common f...  \n",
      "2        Bab 268 – Si Karismatik Charlie Wade – Part 2 ...  \n",
      "3        Bab 268 – Si Karismatik Charlie Wade – Part 2 ...  \n",
      "4                   @Richard_X_Roe https://t.co/Wp2OLaZKgz  \n",
      "...                                                    ...  \n",
      "1470200  @maryannkranz76 @cyb3rfa1ryy_ listen i’m not h...  \n",
      "1470201  @Sara_the_intern @writestuff72 @prof_brunt @Fl...  \n",
      "1470202  @RealJamesWoods Since Roe v Wade 50 yrs ago, A...  \n",
      "1470203  Since Roe v Wade 50 yrs ago, ABORTIONS are res...  \n",
      "1470204   @publishorperish Roe vs Wade isn't a law, moron.  \n",
      "\n",
      "[1470205 rows x 14 columns]\n"
     ]
    }
   ],
   "source": [
    "print(nodups)"
   ]
  },
  {
   "cell_type": "code",
   "execution_count": 120,
   "metadata": {},
   "outputs": [
    {
     "name": "stdout",
     "output_type": "stream",
     "text": [
      "NONE\n",
      "created_at\n",
      "-------\n",
      "NONE\n",
      "nan\n",
      "-------\n",
      "1470203\n"
     ]
    }
   ],
   "source": [
    "count = 0\n",
    "\n",
    "timeStamps = []\n",
    "for el in createdAtList:\n",
    "    try:\n",
    "        # If this line doesn't throw an Error, it's indeed a timestamp in proper format.\n",
    "        datetime.datetime.strptime(el, \"%Y-%m-%d %H:%M:%S+00:00\")\n",
    "        result = el\n",
    "        timeStamps.append(result)\n",
    "        count+=1\n",
    "    except (ValueError, TypeError):\n",
    "        result = \"NONE\"\n",
    "        print(\"NONE\")\n",
    "        print(el)\n",
    "        print(\"-------\")\n",
    "        \n",
    "print(count)"
   ]
  },
  {
   "cell_type": "code",
   "execution_count": 121,
   "metadata": {},
   "outputs": [
    {
     "data": {
      "text/plain": [
       "1470203"
      ]
     },
     "execution_count": 121,
     "metadata": {},
     "output_type": "execute_result"
    }
   ],
   "source": [
    "len(timeStamps)"
   ]
  },
  {
   "cell_type": "code",
   "execution_count": null,
   "metadata": {},
   "outputs": [],
   "source": [
    "#create a graph that plots the data and number of tweets \n",
    "dateCountDict = {}\n",
    "hourCountDict = {}\n",
    "#look at month\n",
    "count = 0\n",
    "countDate = 0\n",
    "countHour = 0\n",
    "\n",
    "#iterate through indexing after this is done running\n",
    "for timeStamp in timeStamps:\n",
    "    try:\n",
    "\n",
    "        timeStamp = timeStamp.split()\n",
    "        date = timeStamp[0].split('-')\n",
    "        time = timeStamp[1].split(':')\n",
    "\n",
    "        month = date[1]\n",
    "        if month not in dateCountDict:\n",
    "            dateCountDict[month] = 0\n",
    "            countDate +=1\n",
    "        else:\n",
    "            dateCountDict[month]+=1\n",
    "            countDate +=1\n",
    "        hour = time[0]\n",
    "        if hour not in hourCountDict:\n",
    "            hourCountDict[hour] = 0\n",
    "            countHour +=1\n",
    "        else:\n",
    "            hourCountDict[hour]+=1\n",
    "            countHour+=1\n",
    "        \n",
    "        print(countDate)\n",
    "        print(countHour)\n",
    "        count+=1\n",
    "        \n",
    "        if countDate != countHour:\n",
    "            print(\"AT INDEX: \",count)\n",
    "            break\n",
    "        \n",
    "        print(\"------------------\")\n",
    "    except:\n",
    "        print(timeStamp)\n",
    "        continue\n",
    "    "
   ]
  },
  {
   "cell_type": "code",
   "execution_count": 131,
   "metadata": {},
   "outputs": [
    {
     "name": "stdout",
     "output_type": "stream",
     "text": [
      "{'04': 50778, '05': 788265, '06': 528666, '07': 102490}\n",
      "{'23': 105048, '22': 100802, '21': 103515, '20': 106299, '19': 99866, '18': 86378, '17': 87525, '16': 89510, '15': 87052, '14': 82575, '13': 67417, '12': 50402, '11': 38562, '10': 28169, '09': 21842, '08': 18901, '07': 21449, '06': 21409, '05': 26471, '04': 33748, '03': 41394, '02': 48036, '01': 50699, '00': 53110}\n"
     ]
    }
   ],
   "source": [
    "print(dateCountDict)\n",
    "print(hourCountDict)"
   ]
  },
  {
   "cell_type": "code",
   "execution_count": 132,
   "metadata": {},
   "outputs": [
    {
     "name": "stdout",
     "output_type": "stream",
     "text": [
      "1470199\n",
      "1470179\n"
     ]
    }
   ],
   "source": [
    "print(sum(dateCountDict.values()))\n",
    "print(sum(hourCountDict.values()))"
   ]
  },
  {
   "cell_type": "markdown",
   "metadata": {},
   "source": [
    "## Plot Data"
   ]
  },
  {
   "cell_type": "code",
   "execution_count": 130,
   "metadata": {},
   "outputs": [],
   "source": [
    "import matplotlib.pyplot as plt"
   ]
  },
  {
   "cell_type": "code",
   "execution_count": 134,
   "metadata": {},
   "outputs": [],
   "source": [
    "months = dateCountDict.keys()\n",
    "monthsCount = dateCountDict.values()\n",
    "\n",
    "hours = hourCountDict.keys()\n",
    "hoursCount = hourCountDict.values()\n"
   ]
  },
  {
   "cell_type": "code",
   "execution_count": 135,
   "metadata": {},
   "outputs": [
    {
     "data": {
      "image/png": "[encoded data removed]",
      "text/plain": [
       "<Figure size 432x288 with 1 Axes>"
      ]
     },
     "metadata": {
      "needs_background": "light"
     },
     "output_type": "display_data"
    },
    {
     "data": {
      "text/plain": [
       "<Figure size 432x288 with 0 Axes>"
      ]
     },
     "metadata": {},
     "output_type": "display_data"
    }
   ],
   "source": [
    "#plot months vs count\n",
    "plt.bar(months,monthsCount)\n",
    "plt.title('number of tweets posted in each month')\n",
    "plt.xlabel('month')\n",
    "plt.ylabel('count')\n",
    "plt.show()\n",
    "plt.savefig('monthCount.png')"
   ]
  },
  {
   "cell_type": "code",
   "execution_count": 136,
   "metadata": {},
   "outputs": [
    {
     "data": {
      "image/png": "[encoded data removed]",
      "text/plain": [
       "<Figure size 432x288 with 1 Axes>"
      ]
     },
     "metadata": {
      "needs_background": "light"
     },
     "output_type": "display_data"
    },
    {
     "data": {
      "text/plain": [
       "<Figure size 432x288 with 0 Axes>"
      ]
     },
     "metadata": {},
     "output_type": "display_data"
    }
   ],
   "source": [
    "#plot hour vs count\n",
    "plt.bar(hours,hoursCount)\n",
    "plt.title('number of tweets posted in each hour')\n",
    "plt.xlabel('hour')\n",
    "plt.ylabel('count')\n",
    "plt.show()\n",
    "plt.savefig('hourCount.png')"
   ]
  },
  {
   "cell_type": "markdown",
   "metadata": {},
   "source": [
    "## Calculate the sentiment"
   ]
  },
  {
   "cell_type": "code",
   "execution_count": 2,
   "metadata": {},
   "outputs": [],
   "source": [
    "import sys\n",
    "import nltk \n",
    "from vaderSentiment.vaderSentiment import SentimentIntensityAnalyzer\n",
    "import pandas as pd\n",
    "import os\n",
    "from pandas.api.types import CategoricalDtype\n",
    "from plotnine import *\n",
    "from plotnine.data import mpg\n",
    "from datetime import datetime\n",
    "%matplotlib inline"
   ]
  },
  {
   "cell_type": "code",
   "execution_count": 19,
   "metadata": {},
   "outputs": [],
   "source": [
    "def calcSentiment(filePath):\n",
    "    curData = pd.read_csv(filePath)\n",
    "    curData['positiveScore'] = ''\n",
    "    curData['compoundScore'] = ''\n",
    "    curData['negativeScore'] = ''\n",
    "    curData['neutralScore'] = ''\n",
    "    for index,row in curData.iterrows():\n",
    "        curTweet = row['tweet']\n",
    "        print(curTweet)\n",
    "        compScore,posScore,negScore,neuScore = calcSentimentScore(curTweet)\n",
    "        curData.loc[index,'compoundScore'] = compScore\n",
    "        curData.loc[index,'positiveScore'] = posScore\n",
    "        curData.loc[index,'negativeScore'] = negScore\n",
    "        curData.loc[index,'neutralScore'] = neuScore\n",
    "    return curData"
   ]
  },
  {
   "cell_type": "code",
   "execution_count": 20,
   "metadata": {},
   "outputs": [],
   "source": [
    "def calcSentimentScore(tweet):\n",
    "    analyzer = SentimentIntensityAnalyzer()\n",
    "    sentimentDict = analyzer.polarity_scores(tweet)\n",
    "    print(\"sentiment dict: \",sentimentDict)\n",
    "    sentimentCompoundScore = sentimentDict['compound']\n",
    "#     print(sentimentCompoundScore)\n",
    "    sentimentPositiveScore = sentimentDict['pos']\n",
    "#     print(sentimentPositiveScore)\n",
    "    sentimentNegativeScore = sentimentDict['neg']\n",
    "#     print(sentimentNegativeScore)\n",
    "    sentimentNeutralScore = sentimentDict['neu']\n",
    "#     print(sentimentNeutralScore)\n",
    "    return sentimentCompoundScore, sentimentPositiveScore, sentimentNegativeScore,sentimentNeutralScore"
   ]
  },
  {
   "cell_type": "code",
   "execution_count": 11,
   "metadata": {},
   "outputs": [
    {
     "name": "stderr",
     "output_type": "stream",
     "text": [
      "/Users/gabbypinto/.pyenv/versions/3.7.4/lib/python3.7/site-packages/IPython/core/interactiveshell.py:3166: DtypeWarning: Columns (2,3,6,8,9,10,11) have mixed types.Specify dtype option on import or set low_memory=False.\n"
     ]
    },
    {
     "data": {
      "text/html": [
       "<div>\n",
       "<style scoped>\n",
       "    .dataframe tbody tr th:only-of-type {\n",
       "        vertical-align: middle;\n",
       "    }\n",
       "\n",
       "    .dataframe tbody tr th {\n",
       "        vertical-align: top;\n",
       "    }\n",
       "\n",
       "    .dataframe thead th {\n",
       "        text-align: right;\n",
       "    }\n",
       "</style>\n",
       "<table border=\"1\" class=\"dataframe\">\n",
       "  <thead>\n",
       "    <tr style=\"text-align: right;\">\n",
       "      <th></th>\n",
       "      <th>Unnamed: 0</th>\n",
       "      <th>Unnamed: 0.1</th>\n",
       "      <th>Unnamed: 0.1.1</th>\n",
       "      <th>author id</th>\n",
       "      <th>created_at</th>\n",
       "      <th>geo</th>\n",
       "      <th>id</th>\n",
       "      <th>lang</th>\n",
       "      <th>like_count</th>\n",
       "      <th>quote_count</th>\n",
       "      <th>reply_count</th>\n",
       "      <th>retweet_count</th>\n",
       "      <th>source</th>\n",
       "      <th>tweet</th>\n",
       "    </tr>\n",
       "  </thead>\n",
       "  <tbody>\n",
       "    <tr>\n",
       "      <th>0</th>\n",
       "      <td>0</td>\n",
       "      <td>0</td>\n",
       "      <td>0</td>\n",
       "      <td>594845016</td>\n",
       "      <td>2022-04-27 23:59:53+00:00</td>\n",
       "      <td></td>\n",
       "      <td>1519466393497915393</td>\n",
       "      <td>en</td>\n",
       "      <td>7</td>\n",
       "      <td>0</td>\n",
       "      <td>1</td>\n",
       "      <td>0</td>\n",
       "      <td>Twitter for iPhone</td>\n",
       "      <td>@Alphons04260271 Awwwwe!!!  Hi Wade!  Are you ...</td>\n",
       "    </tr>\n",
       "    <tr>\n",
       "      <th>1</th>\n",
       "      <td>1</td>\n",
       "      <td>1</td>\n",
       "      <td>1</td>\n",
       "      <td>3238197455</td>\n",
       "      <td>2022-04-27 23:59:32+00:00</td>\n",
       "      <td></td>\n",
       "      <td>1519466308294877185</td>\n",
       "      <td>en</td>\n",
       "      <td>2</td>\n",
       "      <td>0</td>\n",
       "      <td>1</td>\n",
       "      <td>0</td>\n",
       "      <td>Twitter for Android</td>\n",
       "      <td>@EdanRt @BrynnTannehill And it's more common f...</td>\n",
       "    </tr>\n",
       "    <tr>\n",
       "      <th>2</th>\n",
       "      <td>2</td>\n",
       "      <td>2</td>\n",
       "      <td>2</td>\n",
       "      <td>1505086603118923777</td>\n",
       "      <td>2022-04-27 23:59:30+00:00</td>\n",
       "      <td></td>\n",
       "      <td>1519466297502965761</td>\n",
       "      <td>ht</td>\n",
       "      <td>0</td>\n",
       "      <td>0</td>\n",
       "      <td>0</td>\n",
       "      <td>0</td>\n",
       "      <td>WordPress.com</td>\n",
       "      <td>Bab 268 – Si Karismatik Charlie Wade – Part 2 ...</td>\n",
       "    </tr>\n",
       "    <tr>\n",
       "      <th>3</th>\n",
       "      <td>3</td>\n",
       "      <td>3</td>\n",
       "      <td>3</td>\n",
       "      <td>1505094121954115586</td>\n",
       "      <td>2022-04-27 23:59:29+00:00</td>\n",
       "      <td></td>\n",
       "      <td>1519466293015031812</td>\n",
       "      <td>ht</td>\n",
       "      <td>0</td>\n",
       "      <td>0</td>\n",
       "      <td>0</td>\n",
       "      <td>0</td>\n",
       "      <td>WordPress.com</td>\n",
       "      <td>Bab 268 – Si Karismatik Charlie Wade – Part 2 ...</td>\n",
       "    </tr>\n",
       "    <tr>\n",
       "      <th>4</th>\n",
       "      <td>4</td>\n",
       "      <td>4</td>\n",
       "      <td>4</td>\n",
       "      <td>1248533457996677121</td>\n",
       "      <td>2022-04-27 23:59:23+00:00</td>\n",
       "      <td></td>\n",
       "      <td>1519466266905702402</td>\n",
       "      <td>qme</td>\n",
       "      <td>1</td>\n",
       "      <td>0</td>\n",
       "      <td>0</td>\n",
       "      <td>0</td>\n",
       "      <td>Twitter Web App</td>\n",
       "      <td>@Richard_X_Roe https://t.co/Wp2OLaZKgz</td>\n",
       "    </tr>\n",
       "  </tbody>\n",
       "</table>\n",
       "</div>"
      ],
      "text/plain": [
       "   Unnamed: 0  Unnamed: 0.1 Unnamed: 0.1.1            author id  \\\n",
       "0           0             0              0            594845016   \n",
       "1           1             1              1           3238197455   \n",
       "2           2             2              2  1505086603118923777   \n",
       "3           3             3              3  1505094121954115586   \n",
       "4           4             4              4  1248533457996677121   \n",
       "\n",
       "                  created_at geo                   id lang like_count  \\\n",
       "0  2022-04-27 23:59:53+00:00      1519466393497915393   en          7   \n",
       "1  2022-04-27 23:59:32+00:00      1519466308294877185   en          2   \n",
       "2  2022-04-27 23:59:30+00:00      1519466297502965761   ht          0   \n",
       "3  2022-04-27 23:59:29+00:00      1519466293015031812   ht          0   \n",
       "4  2022-04-27 23:59:23+00:00      1519466266905702402  qme          1   \n",
       "\n",
       "  quote_count reply_count retweet_count               source  \\\n",
       "0           0           1             0   Twitter for iPhone   \n",
       "1           0           1             0  Twitter for Android   \n",
       "2           0           0             0        WordPress.com   \n",
       "3           0           0             0        WordPress.com   \n",
       "4           0           0             0      Twitter Web App   \n",
       "\n",
       "                                               tweet  \n",
       "0  @Alphons04260271 Awwwwe!!!  Hi Wade!  Are you ...  \n",
       "1  @EdanRt @BrynnTannehill And it's more common f...  \n",
       "2  Bab 268 – Si Karismatik Charlie Wade – Part 2 ...  \n",
       "3  Bab 268 – Si Karismatik Charlie Wade – Part 2 ...  \n",
       "4             @Richard_X_Roe https://t.co/Wp2OLaZKgz  "
      ]
     },
     "execution_count": 11,
     "metadata": {},
     "output_type": "execute_result"
    }
   ],
   "source": [
    "#check our clean data\n",
    "cleanData = pd.read_csv(\"/Users/gabbypinto/Desktop/roevwade_tweets/tweets_nodups.csv\")\n",
    "cleanData.head()"
   ]
  },
  {
   "cell_type": "code",
   "execution_count": null,
   "metadata": {},
   "outputs": [],
   "source": [
    "#nothing here"
   ]
  },
  {
   "cell_type": "code",
   "execution_count": null,
   "metadata": {},
   "outputs": [
    {
     "name": "stdout",
     "output_type": "stream",
     "text": [
      "@Alphons04260271 Awwwwe!!!  Hi Wade!  Are you making cookies or a noise cake?  Happy evening cutie little guy! 🙏🏼🥰\n",
      "sentiment dict:  {'neg': 0.0, 'neu': 0.611, 'pos': 0.389, 'compound': 0.94}\n",
      "@EdanRt @BrynnTannehill And it's more common for the private adoption industry interests to ally themselves w/ conservatives as well. That said, I think lots of folks underestimate just how quickly some cons &amp; libs alike will jump on the end of Roe to purchase their very own infant.\n",
      "sentiment dict:  {'neg': 0.043, 'neu': 0.877, 'pos': 0.08, 'compound': 0.2263}\n",
      "Bab 268 – Si Karismatik Charlie Wade – Part 2 https://t.co/NWRdqNM2I4\n",
      "sentiment dict:  {'neg': 0.0, 'neu': 1.0, 'pos': 0.0, 'compound': 0.0}\n",
      "Bab 268 – Si Karismatik Charlie Wade – Part 2 https://t.co/V1GfDC9aRp\n",
      "sentiment dict:  {'neg': 0.0, 'neu': 1.0, 'pos': 0.0, 'compound': 0.0}\n",
      "@Richard_X_Roe https://t.co/Wp2OLaZKgz\n",
      "sentiment dict:  {'neg': 0.0, 'neu': 1.0, 'pos': 0.0, 'compound': 0.0}\n",
      "WADE MIGHT BE BACK FOR MY GAME!\n",
      "sentiment dict:  {'neg': 0.0, 'neu': 1.0, 'pos': 0.0, 'compound': 0.0}\n",
      "@Richard_X_Roe @Richard_suX_Roe https://t.co/Wp2OLaZKgz\n",
      "sentiment dict:  {'neg': 0.0, 'neu': 1.0, 'pos': 0.0, 'compound': 0.0}\n",
      "RT @dillon__roe: Happy HumpDay!!!! Only 4 follows from 600?? Playing more elden death... i mean ring.\n",
      "Come hang out and let's have some fun…\n",
      "sentiment dict:  {'neg': 0.13, 'neu': 0.652, 'pos': 0.218, 'compound': 0.431}\n",
      "@Richard_suX_Roe @ChoiceChoi3 What do you think is the cathode in a regular dental x-ray tube?  The hot filament is the cathode, my dear.  That's where the electrons are coming out from.  So, 2A at the cathode (which is the filament).   $NNOX is a #fraud.  #NNOX https://t.co/0IRjVTeCbv\n",
      "sentiment dict:  {'neg': 0.075, 'neu': 0.873, 'pos': 0.052, 'compound': -0.296}\n",
      "@juno_roe Hacked\n",
      "sentiment dict:  {'neg': 0.73, 'neu': 0.27, 'pos': 0.0, 'compound': -0.4019}\n",
      "RT @CAPAction: What do MAGA Republicans want? To take us back 50 years. If Roe is overturned, 26 states are poised to ban abortion outright…\n",
      "sentiment dict:  {'neg': 0.125, 'neu': 0.761, 'pos': 0.114, 'compound': -0.3182}\n",
      "RT @magi_jay: Consider Wisconsin, which has a pre-Roe statute criminalizing abortion. If SCOTUS throws out Roe, this statute would suddenly…\n",
      "sentiment dict:  {'neg': 0.0, 'neu': 1.0, 'pos': 0.0, 'compound': 0.0}\n",
      "\"Cold Cold Winter\" by Adam Wade\n",
      "Unstructured Play at 6:58pm\n",
      "sentiment dict:  {'neg': 0.0, 'neu': 0.789, 'pos': 0.211, 'compound': 0.34}\n",
      "Bab 267 – Si Karismatik Charlie Wade – Part 2 https://t.co/nKNZwNMS1L\n",
      "sentiment dict:  {'neg': 0.0, 'neu': 1.0, 'pos': 0.0, 'compound': 0.0}\n",
      "Bab 267 – Si Karismatik Charlie Wade – Part 2 https://t.co/68JSbIlDQk\n",
      "sentiment dict:  {'neg': 0.0, 'neu': 1.0, 'pos': 0.0, 'compound': 0.0}\n",
      "RT @bhennrich: I am the ONLY candidate running to #FlipWA03 who has discussed the personal nature of my overwhelming support of @NARAL's mi…\n",
      "sentiment dict:  {'neg': 0.0, 'neu': 0.891, 'pos': 0.109, 'compound': 0.4019}\n",
      "RT @MJJRepository: @robstrider2021 Wade had his mental examination w/ Dr. Harrison Pope, a renowned psychologist who also has particular in…\n",
      "sentiment dict:  {'neg': 0.0, 'neu': 1.0, 'pos': 0.0, 'compound': 0.0}\n",
      "RT @RepBarbaraLee: PSA: if Roe falls, your constitutional right to birth control will also be in jeopardy.\n",
      "\n",
      "This has never just been about…\n",
      "sentiment dict:  {'neg': 0.124, 'neu': 0.876, 'pos': 0.0, 'compound': -0.4767}\n",
      "RT @PavlovicNBCS: Kapler pregame: Yaz can start taking PCR tests Friday, needs two negatives to return. Wade Jr. will DH tonight, likely to…\n",
      "sentiment dict:  {'neg': 0.0, 'neu': 1.0, 'pos': 0.0, 'compound': 0.0}\n",
      "Bab 266 – Si Karismatik Charlie Wade – Part 2 https://t.co/HPzYhfxKhl\n",
      "sentiment dict:  {'neg': 0.0, 'neu': 1.0, 'pos': 0.0, 'compound': 0.0}\n",
      "Bab 266 – Si Karismatik Charlie Wade – Part 2 https://t.co/HxZFB28Kkt\n",
      "sentiment dict:  {'neg': 0.0, 'neu': 1.0, 'pos': 0.0, 'compound': 0.0}\n",
      "@ssalioumbackend Segne Sidy wade mou baakh mi 🥰\n",
      "sentiment dict:  {'neg': 0.0, 'neu': 0.578, 'pos': 0.422, 'compound': 0.8074}\n",
      "RT @TimRyan: The Ohio legislature’s extreme new abortion ban—without exceptions for rape, incest or medical emergency—threatens the rights…\n",
      "sentiment dict:  {'neg': 0.217, 'neu': 0.783, 'pos': 0.0, 'compound': -0.6908}\n",
      "RT @clozilly: I’m honored to be in this article with so many other amazing Repro workers. \n",
      "\n",
      "https://t.co/Q6WBdG8AK2\n",
      "sentiment dict:  {'neg': 0.0, 'neu': 0.656, 'pos': 0.344, 'compound': 0.8344}\n",
      "RT @Alphons04260271: Wade's cooking tonight https://t.co/28b74HbAnk\n",
      "sentiment dict:  {'neg': 0.0, 'neu': 1.0, 'pos': 0.0, 'compound': 0.0}\n",
      "RT @MJJRepository: @andjustice4some The way he embeds his dad's alleged abuse &amp; birthday into his plot is vile.\n",
      "\n",
      "And in lawsuit suggested d…\n",
      "sentiment dict:  {'neg': 0.338, 'neu': 0.662, 'pos': 0.0, 'compound': -0.8807}\n",
      "RT @Matarcisse01: On doit pas oublier que Wade père avait dit ceci: «  Pemdant 50 ans le sénégal sera dirigé par les libéraux ». Et, pourta…\n",
      "sentiment dict:  {'neg': 0.0, 'neu': 1.0, 'pos': 0.0, 'compound': 0.0}\n",
      "RT @TupacAG: Only 2 guards have ever had 30 total blocks in a playoff run:\n",
      "\n",
      "2000 Kobe Bryant \n",
      "2012 Dwyane Wade https://t.co/7nXReRvpJV\n",
      "sentiment dict:  {'neg': 0.095, 'neu': 0.905, 'pos': 0.0, 'compound': -0.2944}\n",
      "@ChoiceChoi3 @Richard_suX_Roe Yes, the correction of the gap (that is deviation) between the target anode current and the actual anode current.  It does not show the actual anode current, just the error (gap or deviation).  $NNOX is a #fraud.  #NNOX https://t.co/d2oHgMP6SL\n",
      "sentiment dict:  {'neg': 0.138, 'neu': 0.805, 'pos': 0.057, 'compound': -0.5859}\n",
      "RT @lawhawk: @HeartlandSignal Anti abortion extremists who don't care how much damage they inflict on women who can't get reproductive care…\n",
      "sentiment dict:  {'neg': 0.311, 'neu': 0.689, 'pos': 0.0, 'compound': -0.798}\n",
      "@AbeFromanSox @fedtanyl You refuse to fight depressed losers ignoring that \"history\" is worth dick in a post covid, post J6, post Roe over turned world.\n",
      "Are u better than you were 2 yrs ago is a firm yes for tens of millions of people many whom have been showing up en masse to fight republicans for yrs\n",
      "sentiment dict:  {'neg': 0.269, 'neu': 0.63, 'pos': 0.101, 'compound': -0.9118}\n",
      "Bab 265 – Si Karismatik Charlie Wade – Part 2 https://t.co/5SxXlsPqCi\n",
      "sentiment dict:  {'neg': 0.0, 'neu': 1.0, 'pos': 0.0, 'compound': 0.0}\n",
      "Bab 265 – Si Karismatik Charlie Wade – Part 2 https://t.co/zhBglpxJmZ\n",
      "sentiment dict:  {'neg': 0.0, 'neu': 1.0, 'pos': 0.0, 'compound': 0.0}\n",
      "Welcome to “The Roe”!\n",
      "My Girls made her-story and won the first Girls Flag Football Game in Section V History!\n",
      "#TheJeweloftheCity   \n",
      "#ShineBright \n",
      "@RCSDMonroe @LCMLessons @RCSDNYS @ChiefDemario \n",
      "@PrimetimeBall_ @jjDandC https://t.co/5hEyFBnkyx\n",
      "sentiment dict:  {'neg': 0.0, 'neu': 0.788, 'pos': 0.212, 'compound': 0.8065}\n",
      "@juno_roe eu sou assimKKKKKKKKKKKKKKK\n",
      "sentiment dict:  {'neg': 0.0, 'neu': 1.0, 'pos': 0.0, 'compound': 0.0}\n",
      "RT @AlexPadilla4CA: This is why codifying Roe v. Wade into federal law is so critical. We must pass the Women's Health Protection Act.\n",
      "sentiment dict:  {'neg': 0.12, 'neu': 0.88, 'pos': 0.0, 'compound': -0.4572}\n",
      "Bab 264 – Si Karismatik Charlie Wade – Part 2 https://t.co/KI6j6EPISJ\n",
      "sentiment dict:  {'neg': 0.0, 'neu': 1.0, 'pos': 0.0, 'compound': 0.0}\n",
      "Bab 264 – Si Karismatik Charlie Wade – Part 2 https://t.co/XLXBeAuzJb\n",
      "sentiment dict:  {'neg': 0.0, 'neu': 1.0, 'pos': 0.0, 'compound': 0.0}\n",
      "RT @ElieNYC: @JenniferDiascro Not only will Dems underrate the impact, the GOP will still fundraise on \"overturning Roe\" even after the cas…\n",
      "sentiment dict:  {'neg': 0.0, 'neu': 1.0, 'pos': 0.0, 'compound': 0.0}\n",
      "RT @BeaverBaseball: Congrats to our newest grads, @reid_sebby, Wade Meckler and @jacob_pfennigs! #GoBeavs https://t.co/mwH7TRXjrm\n",
      "sentiment dict:  {'neg': 0.0, 'neu': 0.779, 'pos': 0.221, 'compound': 0.5707}\n",
      "salamat kay roe at benj, bumili ako ng pancake at silog haha gutom yarn\n",
      "sentiment dict:  {'neg': 0.0, 'neu': 0.812, 'pos': 0.188, 'compound': 0.4588}\n",
      "@ROE_ROE_ROE １０年で生活の質が激変したんですね！\n",
      "礼文島、楽しんで来てください(*´ω｀*)ノ\n",
      "sentiment dict:  {'neg': 0.0, 'neu': 1.0, 'pos': 0.0, 'compound': 0.0}\n",
      "RT @ElieNYC: The Supreme Court is going to overrule the fetal viability standard, at which point it DOESN'T MATTER if they say  Roe is \"sti…\n",
      "sentiment dict:  {'neg': 0.057, 'neu': 0.815, 'pos': 0.128, 'compound': 0.4558}\n",
      "RT @LifeNewsHQ: BREAKING: The Oklahoma legislature has passed a bill to ban abortions immediately when Roe v. Wade is overturned.\n",
      "sentiment dict:  {'neg': 0.159, 'neu': 0.841, 'pos': 0.0, 'compound': -0.5574}\n",
      "Bab 263 – Si Karismatik Charlie Wade – Part 2 https://t.co/cakkQ4EW6F\n",
      "sentiment dict:  {'neg': 0.0, 'neu': 1.0, 'pos': 0.0, 'compound': 0.0}\n"
     ]
    },
    {
     "name": "stdout",
     "output_type": "stream",
     "text": [
      "Bab 263 – Si Karismatik Charlie Wade – Part 2 https://t.co/Pev5tfAcQd\n",
      "sentiment dict:  {'neg': 0.0, 'neu': 1.0, 'pos': 0.0, 'compound': 0.0}\n",
      "RT @wrestlerkw7: Oklahoma Legislature Passes Bill to Ban Abortions Immediately When Roe is Overturned - https://t.co/TwNb5CBarf https://t.c…\n",
      "sentiment dict:  {'neg': 0.184, 'neu': 0.816, 'pos': 0.0, 'compound': -0.5574}\n",
      "RT @colleen__may: THIS!!!!\n",
      "\n",
      "wise words from ⁦@clozilly⁩ and ⁦@McMisoprostol⁩, among others. ♥️♥️ https://t.co/2ByXRU9E6E\n",
      "sentiment dict:  {'neg': 0.0, 'neu': 0.496, 'pos': 0.504, 'compound': 0.9348}\n",
      "@SportsH2h Tough because of position, but I have Wade higher in my SG rankings than I have Pierce in my SF rankings....not that that is necessarily determinant, but I DO take Dwyane &gt; Paul\n",
      "sentiment dict:  {'neg': 0.036, 'neu': 0.926, 'pos': 0.038, 'compound': 0.0129}\n",
      "RT @wes_wade: If you're not encouraging others, sharing resources, or making space for people to do their thing, then what are you really d…\n",
      "sentiment dict:  {'neg': 0.188, 'neu': 0.812, 'pos': 0.0, 'compound': -0.6259}\n",
      "@AndrewStoeten I knew Tabby was a pretty good player, no idea he was a first round pick of the Yankees in '76.  That's awesome. He was selected ahead of: Alan Trammell, Rickey Henderson, Wade Boggs &amp; Jack Morris.\n",
      "sentiment dict:  {'neg': 0.047, 'neu': 0.733, 'pos': 0.22, 'compound': 0.8402}\n",
      "RT @sarahkendzior: \"The one thing we don't have time for is to get white male pundits up to speed on Roe v Wade. It reflects an unwillingne…\n",
      "sentiment dict:  {'neg': 0.0, 'neu': 1.0, 'pos': 0.0, 'compound': 0.0}\n",
      "Bab 262 – Si Karismatik Charlie Wade – Part 2 https://t.co/uhgnehySue\n",
      "sentiment dict:  {'neg': 0.0, 'neu': 1.0, 'pos': 0.0, 'compound': 0.0}\n",
      "Bab 262 – Si Karismatik Charlie Wade – Part 2 https://t.co/FUZ368xdQq\n",
      "sentiment dict:  {'neg': 0.0, 'neu': 1.0, 'pos': 0.0, 'compound': 0.0}\n",
      "team with wade carnes, Paul george, jason Voorhes, damian lillard, and joakim noah\n",
      "sentiment dict:  {'neg': 0.0, 'neu': 1.0, 'pos': 0.0, 'compound': 0.0}\n",
      "RT @CantHitWRISP: Best hair on the Angels rankings: \n",
      "\n",
      "1) Ohtani \n",
      "2) Thor \n",
      "3) Marsh \n",
      "4) Wade \n",
      "5) Lorenzen\n",
      "sentiment dict:  {'neg': 0.0, 'neu': 0.802, 'pos': 0.198, 'compound': 0.6369}\n",
      "@kangaman4 @JoyceWhiteVance There are only 2 situations where taking a prenatal life is justified.1. Pregnancy the result of Rape, Incest,Assault,or 2.pregnancy that threatens a woman ‘s life. These answer to higher laws-autonomy &amp; self preservation.Roe needed as remedy for these, not abortion on demand.\n",
      "sentiment dict:  {'neg': 0.147, 'neu': 0.825, 'pos': 0.028, 'compound': -0.7864}\n",
      "@Alphons04260271 Hey Wade… I’ll have french fries please 😍😍\n",
      "sentiment dict:  {'neg': 0.0, 'neu': 0.61, 'pos': 0.39, 'compound': 0.8074}\n",
      "https://t.co/NKBMm6LYS5\n",
      "sentiment dict:  {'neg': 0.0, 'neu': 1.0, 'pos': 0.0, 'compound': 0.0}\n",
      "Wall Street Journal Urges Supreme Court to Overturn Roe - https://t.co/F3gQRwb3du https://t.co/XXU0uohoeY\n",
      "sentiment dict:  {'neg': 0.0, 'neu': 0.753, 'pos': 0.247, 'compound': 0.5574}\n",
      "@Em_Seb30 @StephCurrySon30 @lvicaZubac @DrGuru_ D wade and Bosh isn't a superteam, Kyrie and role player K Love isn't a superteam. AD isn't a superteam. Curry and Draymond cried to get KD after LeBron beat them with a trash team. KD Curry Klay Iggy Draymond is the most stacked roster in nba history, built just to beat lebron.\n",
      "sentiment dict:  {'neg': 0.042, 'neu': 0.89, 'pos': 0.068, 'compound': 0.3818}\n",
      "RT @JoyceWhiteVance: 👇🏼 Take this seriously. Both rights come from the same line of Constitutional analysis. If Roe falls, rights that are…\n",
      "sentiment dict:  {'neg': 0.065, 'neu': 0.935, 'pos': 0.0, 'compound': -0.2204}\n",
      "\"professions that fail to regulate themselves deserve to get regulated by others\" Nicholas Wade at 1:02 in great interview by @trikomes https://t.co/L8odvmVJ2A\n",
      "sentiment dict:  {'neg': 0.127, 'neu': 0.725, 'pos': 0.149, 'compound': 0.1531}\n",
      "Bab 261 – Si Karismatik Charlie Wade – Part 2 https://t.co/3RyPlmfe82\n",
      "sentiment dict:  {'neg': 0.0, 'neu': 1.0, 'pos': 0.0, 'compound': 0.0}\n",
      "Bab 261 – Si Karismatik Charlie Wade – Part 2 https://t.co/VGBskhtrvF\n",
      "sentiment dict:  {'neg': 0.0, 'neu': 1.0, 'pos': 0.0, 'compound': 0.0}\n",
      "Wade Airport, Bermuda \n",
      "\n",
      "https://t.co/VY8GnUxowb\n",
      "sentiment dict:  {'neg': 0.0, 'neu': 1.0, 'pos': 0.0, 'compound': 0.0}\n",
      "RT @HeatNationCP: People that know ball understand how good a coach Erik Spoelstra is 🤷‍♂️\n",
      "\n",
      "He made LeBron, Dwyane Wade, and Chris Bosh mes…\n",
      "sentiment dict:  {'neg': 0.0, 'neu': 0.9, 'pos': 0.1, 'compound': 0.4404}\n",
      "@ROE_ROE_ROE 僕も、船で出船する予定です\n",
      "風が心配ですが\n",
      "sentiment dict:  {'neg': 0.0, 'neu': 1.0, 'pos': 0.0, 'compound': 0.0}\n",
      "Lmfao @JimmyButler might be my favorite Heat player after D Wade when it’s all said and done https://t.co/XbqD9Aj57E\n",
      "sentiment dict:  {'neg': 0.0, 'neu': 0.711, 'pos': 0.289, 'compound': 0.7579}\n",
      "@utahjazz I know the referees are probably dealing with back strains from Wade overloading their pockets, but they will be good to go tomorrow night right?\n",
      "sentiment dict:  {'neg': 0.054, 'neu': 0.815, 'pos': 0.131, 'compound': 0.5023}\n",
      "The Spirituals - Wade in the Water\n",
      "sentiment dict:  {'neg': 0.0, 'neu': 1.0, 'pos': 0.0, 'compound': 0.0}\n",
      "@RadioFreeTom Democrats who held majorities in the 90s and late 2000s failed to codify voting rights and roe v wade\n",
      "sentiment dict:  {'neg': 0.148, 'neu': 0.852, 'pos': 0.0, 'compound': -0.5106}\n",
      "Bab 280 – Si Karismatik Charlie Wade – Part 2 https://t.co/0VrBtK0JEd\n",
      "sentiment dict:  {'neg': 0.0, 'neu': 1.0, 'pos': 0.0, 'compound': 0.0}\n",
      "Bab 280 – Si Karismatik Charlie Wade – Part 2 https://t.co/4j2Iy9kOh5\n",
      "sentiment dict:  {'neg': 0.0, 'neu': 1.0, 'pos': 0.0, 'compound': 0.0}\n",
      "@RadioFreeTom Lol on the eve of Roe being overturned here's a Repuby to tell us we aren't sufficiently grateful for Dem failures\n",
      "sentiment dict:  {'neg': 0.201, 'neu': 0.696, 'pos': 0.103, 'compound': -0.3979}\n",
      "Baseball\n",
      "\n",
      "Serra Catholic 11, Greensburg Central Catholic 1\n",
      "FINAL - 5 inn.\n",
      "\n",
      "SC: Max Rocco 2-2, 3 RBIs; Matt Bisceglia 3-3, 2B; Zach Black 2B, 2 RBIs\n",
      "\n",
      "GCC: Max Kallock 2-3, 2B; Wade Boyle 2B\n",
      "\n",
      "@SerraCatholic @GCC_Centurions @TribLiveHSSN\n",
      "sentiment dict:  {'neg': 0.0, 'neu': 1.0, 'pos': 0.0, 'compound': 0.0}\n",
      "Gabrielle Union Has a Chic Workout in Green Bralette &amp; Matching Adidas Sneakers With Dwyane Wade https://t.co/WcbhE0PR2y via @footwearnews\n",
      "sentiment dict:  {'neg': 0.0, 'neu': 0.896, 'pos': 0.104, 'compound': 0.2732}\n",
      "RT @james_roe: Neither does the Democratic party, or even the progressive caucus.\n",
      "\n",
      "So why are you still lending them your moral legitimacy?\n",
      "sentiment dict:  {'neg': 0.0, 'neu': 0.886, 'pos': 0.114, 'compound': 0.4019}\n",
      "RT @VLeighBlues: FINISH THE DAMN WALL! \n",
      "Then station NG troops along it and let them have ammo in their weapons! Simple ROE : Nobody comes…\n",
      "sentiment dict:  {'neg': 0.231, 'neu': 0.769, 'pos': 0.0, 'compound': -0.7856}\n",
      "well, i... if i put an arrow through loki's eye socket, i'd sleep better, i suppose.\n",
      "\n",
      "now you sound like you.\n",
      "\n",
      "but you don't. you're a spy, not a soldier. now you want to wade into a war. why? what did loki do to you?\n",
      "\n",
      "he didn't. i just...\n",
      "\n",
      "natasha.\n",
      "sentiment dict:  {'neg': 0.093, 'neu': 0.784, 'pos': 0.123, 'compound': -0.4606}\n",
      "Bab 279 – Si Karismatik Charlie Wade – Part 2 https://t.co/BsZdc5Nysp\n",
      "sentiment dict:  {'neg': 0.0, 'neu': 1.0, 'pos': 0.0, 'compound': 0.0}\n",
      "Bab 279 – Si Karismatik Charlie Wade – Part 2 https://t.co/gjoWwZzzLi\n",
      "sentiment dict:  {'neg': 0.0, 'neu': 1.0, 'pos': 0.0, 'compound': 0.0}\n",
      "@amyklobuchar Let’s face it . R v Wade will be history by summer. Poor and women of color are in trouble. It’s too late now, Amy. Just plain awful. Like the dark ages.👎\n",
      "sentiment dict:  {'neg': 0.208, 'neu': 0.733, 'pos': 0.059, 'compound': -0.743}\n",
      "One would assume they will promise a vote a national abortion ban if SCOTUS overturns Roe. Not sure that the issue will do anything except drive Democratic turnout tbqh. https://t.co/8012ErtwaV\n",
      "sentiment dict:  {'neg': 0.16, 'neu': 0.774, 'pos': 0.066, 'compound': -0.5043}\n",
      "@JonRothstein You said trey wade twice\n",
      "sentiment dict:  {'neg': 0.0, 'neu': 1.0, 'pos': 0.0, 'compound': 0.0}\n",
      "@amyklobuchar Yes please. fight the good fight,\n",
      "Feeling better as abortion activist sisters across the country talk about how they are preparing for a world in which Roe v. Wade is overturned.\n",
      "\n",
      "If you get pregnant, there is an underground network to help you. You are not alone. \n",
      "#abortionpill\n",
      "sentiment dict:  {'neg': 0.084, 'neu': 0.646, 'pos': 0.27, 'compound': 0.8604}\n",
      "Reds traded Sonny Gray, waived Wade Miley, brought in these young pitchers in Sanmartin and Guiterrierez and they suck\n",
      "sentiment dict:  {'neg': 0.139, 'neu': 0.861, 'pos': 0.0, 'compound': -0.4404}\n"
     ]
    },
    {
     "name": "stdout",
     "output_type": "stream",
     "text": [
      "RT @McMisoprostol: For folks who don’t understand why this is a problem, @MollyOShah just dropped an excellent piece where some wonderful a…\n",
      "sentiment dict:  {'neg': 0.093, 'neu': 0.653, 'pos': 0.254, 'compound': 0.6908}\n",
      "@james_roe What point are you making?\n",
      "sentiment dict:  {'neg': 0.0, 'neu': 1.0, 'pos': 0.0, 'compound': 0.0}\n",
      "RT @realmsofeth: 📢 And now the historic moment we’ve all been waiting for is upon us.😱\n",
      "\n",
      "$RETH will be listed on its first DEX! 🚀\n",
      "\n",
      "Platform…\n",
      "sentiment dict:  {'neg': 0.179, 'neu': 0.821, 'pos': 0.0, 'compound': -0.7263}\n"
     ]
    }
   ],
   "source": [
    "#calculate sentiment\n",
    "\n",
    "newCSV = calcSentiment(\"/Users/gabbypinto/Desktop/roevwade_tweets/tweets_nodups.csv\")\n",
    "#calculations\n",
    "posCount = 0\n",
    "neuCount = 0\n",
    "negCount = 0\n",
    "sentiment = ''\n",
    "for index,row in newCSV.iterrows():\n",
    "#         print(row['compoundScore'])\n",
    "        curTweet = row['compoundScore']\n",
    "        try:\n",
    "            if curTweet >= 0.05 :\n",
    "                posCount +=1\n",
    "                sentiment = 'positive'\n",
    "            elif curTweet <= - 0.05 :\n",
    "                negCount+=1\n",
    "                sentiment = 'negative'\n",
    "            else :\n",
    "                neuCount+=1\n",
    "                sentiment = 'neutral'\n",
    "\n",
    "            newCSV.loc[index,'sentimentEval'] = sentiment\n",
    "        except TypeError:\n",
    "            print(\"error at: \",print(row['compoundScore']))\n",
    "\n",
    "print(\"positive sentiment count: \",posCount)\n",
    "print(\"negative sentiment count: \",negCount)\n",
    "print(\"neutral sentiment count: \",neuCount)\n",
    "\n",
    "\n",
    "newCSV.head()"
   ]
  },
  {
   "cell_type": "markdown",
   "metadata": {},
   "source": [
    "### Remove unnamed columns"
   ]
  },
  {
   "cell_type": "code",
   "execution_count": null,
   "metadata": {},
   "outputs": [],
   "source": [
    "#remove unnamed columns\n",
    "newCSV = newCSV.loc[:, ~newCSV.columns.str.contains('^Unnamed')]\n",
    "#to prevent it...\n",
    "#df = pd.read_csv('data.csv', index_col=0)\n",
    "#AND\n",
    "#a DataFrame is saved into a CSV file using parameter index=True, which is the default behaviour\n",
    "# we read this CSV file into a DataFrame using pd.read_csv() without explicitly specifying index_col=0 (default: index_col=None)\n"
   ]
  },
  {
   "cell_type": "markdown",
   "metadata": {},
   "source": [
    "### Perform topic modeling"
   ]
  },
  {
   "cell_type": "code",
   "execution_count": null,
   "metadata": {},
   "outputs": [],
   "source": []
  }
 ],
 "metadata": {
  "kernelspec": {
   "display_name": "Python 3",
   "language": "python",
   "name": "python3"
  },
  "language_info": {
   "codemirror_mode": {
    "name": "ipython",
    "version": 3
   },
   "file_extension": ".py",
   "mimetype": "text/x-python",
   "name": "python",
   "nbconvert_exporter": "python",
   "pygments_lexer": "ipython3",
   "version": "3.7.4"
  },
  "vscode": {
   "interpreter": {
    "hash": "31f2aee4e71d21fbe5cf8b01ff0e069b9275f58929596ceb00d14d90e3e16cd6"
   }
  }
 },
 "nbformat": 4,
 "nbformat_minor": 2
}
